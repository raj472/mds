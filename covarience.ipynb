{
 "cells": [
  {
   "cell_type": "code",
   "execution_count": null,
   "id": "57f7ce23",
   "metadata": {},
   "outputs": [],
   "source": [
    "import numpy as np\n",
    "\n",
    "def calculate_covariance_matrix(data):\n",
    "    n = len(data)\n",
    "    # Number of features\n",
    "    num_features = len(data[0])\n",
    "    \n",
    "    # Mean of each feature\n",
    "    means = np.mean(data, axis=0)\n",
    "    \n",
    "    # Initialize covariance matrix with zeros\n",
    "    covariance_matrix = np.zeros((num_features, num_features))\n",
    "    \n",
    "    # Calculate covariance between each pair of features\n",
    "    for i in range(num_features):\n",
    "        for j in range(num_features):\n",
    "            # Covariance formula: Σ[(x - μ_x) * (y - μ_y)] / (n - 1)\n",
    "            covariance = sum((data[:, i] - means[i]) * (data[:, j] - means[j])) / (n - 1)\n",
    "            covariance_matrix[i][j] = covariance\n",
    "            \n",
    "    return covariance_matrix\n",
    "\n",
    "# Example dataset (replace this with your actual dataset)\n",
    "# Each row represents an observation and each column represents a feature\n",
    "# Example: [[feature1_obs1, feature2_obs1, ...], [feature1_obs2, feature2_obs2, ...], ...]\n",
    "dataset = np.array([\n",
    "    [1, 2, 3],\n",
    "    [4, 5, 6],\n",
    "    [7, 8, 9]\n",
    "])\n",
    "\n",
    "# Calculate covariance matrix\n",
    "covariance_matrix = calculate_covariance_matrix(dataset)\n",
    "\n",
    "print(\"Covariance Matrix:\")\n",
    "print(covariance_matrix)\n"
   ]
  }
 ],
 "metadata": {
  "kernelspec": {
   "display_name": "Python 3 (ipykernel)",
   "language": "python",
   "name": "python3"
  },
  "language_info": {
   "codemirror_mode": {
    "name": "ipython",
    "version": 3
   },
   "file_extension": ".py",
   "mimetype": "text/x-python",
   "name": "python",
   "nbconvert_exporter": "python",
   "pygments_lexer": "ipython3",
   "version": "3.11.5"
  }
 },
 "nbformat": 4,
 "nbformat_minor": 5
}
