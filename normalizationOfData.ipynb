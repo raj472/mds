{
 "cells": [
  {
   "cell_type": "code",
   "execution_count": 36,
   "id": "8535d690",
   "metadata": {},
   "outputs": [],
   "source": [
    "import pandas as pd"
   ]
  },
  {
   "cell_type": "code",
   "execution_count": 38,
   "id": "a550142a",
   "metadata": {
    "scrolled": true
   },
   "outputs": [],
   "source": [
    "df = pd.read_csv('adult.csv')"
   ]
  },
  {
   "cell_type": "code",
   "execution_count": 43,
   "id": "d2705ab3",
   "metadata": {},
   "outputs": [],
   "source": [
    "data = pd.DataFrame(df)"
   ]
  },
  {
   "cell_type": "code",
   "execution_count": 44,
   "id": "9ec5ad97",
   "metadata": {},
   "outputs": [
    {
     "data": {
      "text/plain": [
       "0        90\n",
       "1        82\n",
       "2        66\n",
       "3        54\n",
       "4        41\n",
       "         ..\n",
       "32556    22\n",
       "32557    27\n",
       "32558    40\n",
       "32559    58\n",
       "32560    22\n",
       "Name: age, Length: 32561, dtype: int64"
      ]
     },
     "execution_count": 44,
     "metadata": {},
     "output_type": "execute_result"
    }
   ],
   "source": [
    "data['age']"
   ]
  },
  {
   "cell_type": "code",
   "execution_count": null,
   "id": "f5f6a4be",
   "metadata": {},
   "outputs": [],
   "source": []
  },
  {
   "cell_type": "code",
   "execution_count": null,
   "id": "4857760a",
   "metadata": {},
   "outputs": [],
   "source": []
  },
  {
   "cell_type": "code",
   "execution_count": 45,
   "id": "6e4d1779",
   "metadata": {},
   "outputs": [],
   "source": [
    "def standardize_column(data, column_name):\n",
    "    mean = data[column_name].mean()\n",
    "    std = data[column_name].std()\n",
    "    data[column_name + '_standardized'] = (data[column_name] - mean) / std\n",
    "    return data[column_name + '_standardized']"
   ]
  },
  {
   "cell_type": "code",
   "execution_count": 46,
   "id": "509ac942",
   "metadata": {},
   "outputs": [],
   "source": [
    "standardized_age = standardize_column(data, 'age')"
   ]
  },
  {
   "cell_type": "code",
   "execution_count": 47,
   "id": "444313ac",
   "metadata": {},
   "outputs": [
    {
     "name": "stdout",
     "output_type": "stream",
     "text": [
      "0        3.769554\n",
      "1        3.183063\n",
      "2        2.010079\n",
      "3        1.130342\n",
      "4        0.177293\n",
      "           ...   \n",
      "32556   -1.215625\n",
      "32557   -0.849067\n",
      "32558    0.103982\n",
      "32559    1.423588\n",
      "32560   -1.215625\n",
      "Name: age_standardized, Length: 32561, dtype: float64\n"
     ]
    }
   ],
   "source": [
    "print(standardized_age)"
   ]
  },
  {
   "cell_type": "code",
   "execution_count": null,
   "id": "d19bfb3c",
   "metadata": {},
   "outputs": [],
   "source": []
  },
  {
   "cell_type": "code",
   "execution_count": 48,
   "id": "8d0b77b5",
   "metadata": {},
   "outputs": [],
   "source": [
    "def normalize_column(data, column_name):\n",
    "    min_val = data[column_name].min()\n",
    "    max_val = data[column_name].max()\n",
    "    data[column_name + '_normalized'] = (data[column_name] - min_val) / (max_val - min_val)\n",
    "    return data[column_name + '_normalized']"
   ]
  },
  {
   "cell_type": "code",
   "execution_count": 49,
   "id": "38a637a4",
   "metadata": {},
   "outputs": [],
   "source": [
    "normalized_age = normalize_column(data, 'age')"
   ]
  },
  {
   "cell_type": "code",
   "execution_count": 50,
   "id": "c5491afe",
   "metadata": {},
   "outputs": [
    {
     "name": "stdout",
     "output_type": "stream",
     "text": [
      "0        1.000000\n",
      "1        0.890411\n",
      "2        0.671233\n",
      "3        0.506849\n",
      "4        0.328767\n",
      "           ...   \n",
      "32556    0.068493\n",
      "32557    0.136986\n",
      "32558    0.315068\n",
      "32559    0.561644\n",
      "32560    0.068493\n",
      "Name: age_normalized, Length: 32561, dtype: float64\n"
     ]
    }
   ],
   "source": [
    "print(normalized_age)"
   ]
  },
  {
   "cell_type": "code",
   "execution_count": null,
   "id": "ab5c018c",
   "metadata": {},
   "outputs": [],
   "source": []
  }
 ],
 "metadata": {
  "kernelspec": {
   "display_name": "Python 3 (ipykernel)",
   "language": "python",
   "name": "python3"
  },
  "language_info": {
   "codemirror_mode": {
    "name": "ipython",
    "version": 3
   },
   "file_extension": ".py",
   "mimetype": "text/x-python",
   "name": "python",
   "nbconvert_exporter": "python",
   "pygments_lexer": "ipython3",
   "version": "3.11.5"
  }
 },
 "nbformat": 4,
 "nbformat_minor": 5
}
